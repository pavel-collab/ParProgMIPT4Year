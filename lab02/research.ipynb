{
 "cells": [
  {
   "cell_type": "markdown",
   "metadata": {},
   "source": [
    "Оператор, где элемент массива выходная переменная $S_1: a[f(j)] \\dots$ называется источником зависимости\n",
    "Оператор, где элемент массива входная переменная $S_2: \\dots a[g(j)] \\dots$ называется стоком зависимости"
   ]
  },
  {
   "cell_type": "markdown",
   "metadata": {},
   "source": [
    "Ищем решение диофантова уравнения $f(\\mu) = g(\\lambda)$. Расстояние зависимости $D = \\lambda - \\mu$ -- расстояние от стока до источника зависимости. \n",
    "\n",
    "В случае, если источник зависимости располагается раньше стока, то есть значение ячейки массива сначала меняется, а потом используется в некотором выражении, и $D > 0$, говорят, что зависимость прямая.\n",
    "В случае, если источник распологается позже стока, то есть значение ячейки сначала используется для вычисления некоторого выражения, и только потом меняется, говорят, что присутствует антизависимость и $D < 0$"
   ]
  },
  {
   "cell_type": "markdown",
   "metadata": {},
   "source": [
    "В случае многомерных массивов мы переходим к вектор-функциям $F$ и $G$, и векторам $\\Lambda$ и $\\Mu$, а так же вектору $D$. Заметим, что возможно множество решений системы диофантовых уравнений, а значит, множество векторов $D$."
   ]
  },
  {
   "cell_type": "code",
   "execution_count": 79,
   "metadata": {},
   "outputs": [],
   "source": [
    "ISIZE = 1000\n",
    "JSIZE = 1000"
   ]
  },
  {
   "cell_type": "markdown",
   "metadata": {},
   "source": [
    "Для первого цикла $a[i][j] = \\sin(5*a[i-2][j+3]);$"
   ]
  },
  {
   "cell_type": "code",
   "execution_count": 80,
   "metadata": {},
   "outputs": [],
   "source": [
    "def f1(i):\n",
    "    return i\n",
    "\n",
    "def f2(j):\n",
    "    return j\n",
    "\n",
    "def g1(i):\n",
    "    return i - 2\n",
    "\n",
    "def g2(j):\n",
    "    return j + 3\n",
    "\n",
    "# Перебором найдем решение системы диофантовых уравнений \n",
    "# f1(mu1) = g1(l1)\n",
    "# f2(mu2) = g2(l2)\n",
    "\n",
    "fist_solution_set = []\n",
    "second_solution_set = []\n",
    "\n",
    "for mu in range(2, ISIZE):\n",
    "    for lambd in range(JSIZE-3):\n",
    "        if (f1(mu) == g1(lambd)):\n",
    "            fist_solution_set.append((mu, lambd))\n",
    "\n",
    "for mu in range(2, ISIZE+1):\n",
    "    for lambd in range(JSIZE-3):\n",
    "        if (f2(mu) == g2(lambd)):\n",
    "            second_solution_set.append((mu, lambd))        "
   ]
  },
  {
   "cell_type": "markdown",
   "metadata": {},
   "source": [
    "Исследуем получившиеся множества решений"
   ]
  },
  {
   "cell_type": "code",
   "execution_count": 81,
   "metadata": {},
   "outputs": [
    {
     "data": {
      "text/plain": [
       "[(2, 4), (3, 5)]"
      ]
     },
     "execution_count": 81,
     "metadata": {},
     "output_type": "execute_result"
    }
   ],
   "source": [
    "fist_solution_set[:2]"
   ]
  },
  {
   "cell_type": "code",
   "execution_count": 82,
   "metadata": {},
   "outputs": [
    {
     "data": {
      "text/plain": [
       "[(3, 0), (4, 1)]"
      ]
     },
     "execution_count": 82,
     "metadata": {},
     "output_type": "execute_result"
    }
   ],
   "source": [
    "second_solution_set[:2]"
   ]
  },
  {
   "cell_type": "markdown",
   "metadata": {},
   "source": [
    "На данный момент не понятно, как комбенироват между собой решения диофантовых уравнений. Однако, заметим, что в данном случае, при формировании вектора D и соответсвующих пар решений, получается один и тот же вектор.\n",
    "\n",
    "Временно ограничемся исследованием первой пары соответсвующих решений."
   ]
  },
  {
   "cell_type": "markdown",
   "metadata": {},
   "source": [
    "$D_1 = (2, -3)$ $d_1 = (<, >)$\n",
    "\n",
    "Истинная зависимость. Значения массива сначала вычисляются, а потом используются. Можно распараллелить внутренний цикл без ограничений, но с барьерной синхронизацией."
   ]
  },
  {
   "cell_type": "code",
   "execution_count": 83,
   "metadata": {},
   "outputs": [],
   "source": [
    "def f1(i):\n",
    "    return i\n",
    "\n",
    "def f2(j):\n",
    "    return j\n",
    "\n",
    "def g1(i):\n",
    "    return i + 1\n",
    "\n",
    "def g2(j):\n",
    "    return j - 6\n",
    "\n",
    "# Перебором найдем решение системы диофантовых уравнений \n",
    "# f1(mu1) = g1(l1)\n",
    "# f2(mu2) = g2(l2)\n",
    "\n",
    "fist_solution_set = []\n",
    "second_solution_set = []\n",
    "\n",
    "for mu in range(ISIZE - 1):\n",
    "    for lambd in range(6, JSIZE):\n",
    "        if (f1(mu) == g1(lambd)):\n",
    "            fist_solution_set.append((mu, lambd))\n",
    "\n",
    "for mu in range(ISIZE - 1):\n",
    "    for lambd in range(6, JSIZE):\n",
    "        if (f2(mu) == g2(lambd)):\n",
    "            second_solution_set.append((mu, lambd))        "
   ]
  },
  {
   "cell_type": "code",
   "execution_count": 84,
   "metadata": {},
   "outputs": [
    {
     "data": {
      "text/plain": [
       "[(7, 6), (8, 7)]"
      ]
     },
     "execution_count": 84,
     "metadata": {},
     "output_type": "execute_result"
    }
   ],
   "source": [
    "fist_solution_set[:2]"
   ]
  },
  {
   "cell_type": "code",
   "execution_count": 85,
   "metadata": {},
   "outputs": [
    {
     "data": {
      "text/plain": [
       "[(0, 6), (1, 7)]"
      ]
     },
     "execution_count": 85,
     "metadata": {},
     "output_type": "execute_result"
    }
   ],
   "source": [
    "second_solution_set[:2]"
   ]
  },
  {
   "cell_type": "markdown",
   "metadata": {},
   "source": [
    "$D_2 = (-1, 6)$ $d_2 = (>, <)$\n",
    "\n",
    "Антизависимость. Значения массива сначала используются, а потом вычисляются. Можно распараллелисть по внутреннему циклу с копированием данных."
   ]
  },
  {
   "cell_type": "markdown",
   "metadata": {},
   "source": [
    "Исследуем третий цикл. В третьем алгоритме цикл можно переписать следующем образом"
   ]
  },
  {
   "cell_type": "code",
   "execution_count": 86,
   "metadata": {},
   "outputs": [
    {
     "data": {
      "text/plain": [
       "'\\nfor (int i = 0; i < ISIZE; ++i){\\n    for (int j = 0; i < JSIZE; ++j) {\\n        a[i][j] = sin(0.01*a[i][j]);\\n        if (j >= 3 and i < ISIZE-1) {\\n            b[i][j] = a[i+1][j-3] * 2\\n        }\\n    }\\n}\\n'"
      ]
     },
     "execution_count": 86,
     "metadata": {},
     "output_type": "execute_result"
    }
   ],
   "source": [
    "'''\n",
    "for (int i = 0; i < ISIZE; ++i){\n",
    "    for (int j = 0; i < JSIZE; ++j) {\n",
    "        a[i][j] = sin(0.01*a[i][j]);\n",
    "        if (j >= 3 and i < ISIZE-1) {\n",
    "            b[i][j] = a[i+1][j-3] * 2\n",
    "        }\n",
    "    }\n",
    "}\n",
    "'''"
   ]
  },
  {
   "cell_type": "markdown",
   "metadata": {},
   "source": [
    "То есть при условиях $j >= 3$ and $i < ISIZE-1$ возможно нарушение условий Бернстрайна"
   ]
  },
  {
   "cell_type": "code",
   "execution_count": 87,
   "metadata": {},
   "outputs": [],
   "source": [
    "def f1(i):\n",
    "    return i\n",
    "\n",
    "def f2(j):\n",
    "    return j\n",
    "\n",
    "def g1(i):\n",
    "    return i + 1\n",
    "\n",
    "def g2(j):\n",
    "    return j - 3\n",
    "\n",
    "# Перебором найдем решение системы диофантовых уравнений \n",
    "# f1(mu1) = g1(l1)\n",
    "# f2(mu2) = g2(l2)\n",
    "\n",
    "fist_solution_set = []\n",
    "second_solution_set = []\n",
    "\n",
    "for mu in range(ISIZE - 1):\n",
    "    for lambd in range(3, JSIZE):\n",
    "        if (f1(mu) == g1(lambd)):\n",
    "            fist_solution_set.append((mu, lambd))\n",
    "\n",
    "for mu in range(ISIZE - 1):\n",
    "    for lambd in range(6, JSIZE):\n",
    "        if (f2(mu) == g2(lambd)):\n",
    "            second_solution_set.append((mu, lambd))        "
   ]
  },
  {
   "cell_type": "code",
   "execution_count": 88,
   "metadata": {},
   "outputs": [
    {
     "data": {
      "text/plain": [
       "[(4, 3), (5, 4)]"
      ]
     },
     "execution_count": 88,
     "metadata": {},
     "output_type": "execute_result"
    }
   ],
   "source": [
    "fist_solution_set[:2]"
   ]
  },
  {
   "cell_type": "code",
   "execution_count": 89,
   "metadata": {},
   "outputs": [
    {
     "data": {
      "text/plain": [
       "[(3, 6), (4, 7)]"
      ]
     },
     "execution_count": 89,
     "metadata": {},
     "output_type": "execute_result"
    }
   ],
   "source": [
    "second_solution_set[:2]"
   ]
  },
  {
   "cell_type": "markdown",
   "metadata": {},
   "source": [
    "$D_2 = (-1, 3)$ $d_2 = (>, <)$\n",
    "\n",
    "Антизависимость. Значения массива сначала используются, а потом вычисляются. Можно распараллелисть по внутреннему циклу с копированием данных."
   ]
  }
 ],
 "metadata": {
  "kernelspec": {
   "display_name": "Python 3",
   "language": "python",
   "name": "python3"
  },
  "language_info": {
   "codemirror_mode": {
    "name": "ipython",
    "version": 3
   },
   "file_extension": ".py",
   "mimetype": "text/x-python",
   "name": "python",
   "nbconvert_exporter": "python",
   "pygments_lexer": "ipython3",
   "version": "3.8.10"
  }
 },
 "nbformat": 4,
 "nbformat_minor": 2
}
